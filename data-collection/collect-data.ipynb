{
 "cells": [
  {
   "cell_type": "code",
   "execution_count": 23,
   "metadata": {},
   "outputs": [],
   "source": [
    "# imports\n",
    "\n",
    "import requests\n",
    "import os\n",
    "import pandas as pd\n",
    "import numpy as np\n",
    "from bs4 import BeautifulSoup"
   ]
  },
  {
   "cell_type": "code",
   "execution_count": 40,
   "metadata": {},
   "outputs": [],
   "source": [
    "def get_data(url):\n",
    "    \"\"\"\n",
    "    Get data from a given url\n",
    "    \"\"\"\n",
    "    return BeautifulSoup(requests.get(url).text, 'html.parser')\n",
    "\n",
    "request_url = 'https://www.serebii.net/brilliantdiamondshiningpearl/poffin.shtml'\n",
    "\n",
    "def get_map_from_stats_row(stats_row):\n",
    "    map_from_stats_row = {}\n",
    "\n",
    "    left = 0\n",
    "    i = 0\n",
    "    while i < len(stats_row):\n",
    "        char = stats_row[i]\n",
    "\n",
    "        if char.isnumeric():\n",
    "            right = i\n",
    "            val_for_map = ''\n",
    "\n",
    "            while i < len(stats_row) and stats_row[i].isnumeric():\n",
    "                val_for_map += stats_row[i]\n",
    "                i += 1\n",
    "\n",
    "            map_from_stats_row[stats_row[left:right]] = int(val_for_map)\n",
    "            left = i\n",
    "            continue\n",
    "        i += 1\n",
    "    \n",
    "    return map_from_stats_row\n",
    "\n",
    "def get_picture_using_name(name):\n",
    "    berry_name = name.split()[0].lower()\n",
    "    return f'/berries/{berry_name}.png'\n",
    "\n",
    "def get_df_from_html(html):\n",
    "    df_from_html = pd.read_html(str(html), header=0)[0]\n",
    "\n",
    "    df_from_html['Spicy'] = [-1 for _ in range(len(df_from_html))]\n",
    "    df_from_html['Dry'] = [-1 for _ in range(len(df_from_html))]\n",
    "    df_from_html['Sweet'] = [-1 for _ in range(len(df_from_html))]\n",
    "    df_from_html['Bitter'] = [-1 for _ in range(len(df_from_html))]\n",
    "    df_from_html['Sour'] = [-1 for _ in range(len(df_from_html))]\n",
    "    df_from_html['Smoothness'] = [-1 for _ in range(len(df_from_html))]\n",
    "\n",
    "    for idx in df_from_html.index:\n",
    "        df_from_html.loc[idx, 'Picture'] = get_picture_using_name(df_from_html.loc[idx, 'Name'])\n",
    "        stats_row = df_from_html.loc[idx, 'Stats']\n",
    "        map_from_stats_row = get_map_from_stats_row(stats_row)\n",
    "        \n",
    "        for key in map_from_stats_row.keys():\n",
    "            df_from_html.loc[idx, key] = map_from_stats_row[key]\n",
    "    \n",
    "    df_from_html.drop(columns=['Stats'], inplace=True)\n",
    "    \n",
    "    return df_from_html\n",
    "\n",
    "def export_df_to_json(df, filename):\n",
    "    df.to_json(f'../public/{filename}.json', orient='records')\n",
    "        "
   ]
  },
  {
   "cell_type": "code",
   "execution_count": 38,
   "metadata": {},
   "outputs": [],
   "source": [
    "text = get_data(request_url)"
   ]
  },
  {
   "cell_type": "code",
   "execution_count": 41,
   "metadata": {},
   "outputs": [],
   "source": [
    "all_rows = text.find_all('table')\n",
    "\n",
    "df_from_html = get_df_from_html(all_rows[2])\n",
    "export_df_to_json(df_from_html, 'berries-info')"
   ]
  }
 ],
 "metadata": {
  "interpreter": {
   "hash": "aee8b7b246df8f9039afb4144a1f6fd8d2ca17a180786b69acc140d282b71a49"
  },
  "kernelspec": {
   "display_name": "Python 3.8.1 64-bit",
   "language": "python",
   "name": "python3"
  },
  "language_info": {
   "codemirror_mode": {
    "name": "ipython",
    "version": 3
   },
   "file_extension": ".py",
   "mimetype": "text/x-python",
   "name": "python",
   "nbconvert_exporter": "python",
   "pygments_lexer": "ipython3",
   "version": "3.9.7"
  },
  "orig_nbformat": 4
 },
 "nbformat": 4,
 "nbformat_minor": 2
}
